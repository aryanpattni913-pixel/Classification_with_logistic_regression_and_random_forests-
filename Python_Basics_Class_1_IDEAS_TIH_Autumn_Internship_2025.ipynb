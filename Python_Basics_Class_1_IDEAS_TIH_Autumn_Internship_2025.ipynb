{
  "nbformat": 4,
  "nbformat_minor": 0,
  "metadata": {
    "colab": {
      "provenance": [],
      "include_colab_link": true
    },
    "kernelspec": {
      "name": "python3",
      "display_name": "Python 3"
    },
    "language_info": {
      "name": "python"
    }
  },
  "cells": [
    {
      "cell_type": "markdown",
      "metadata": {
        "id": "view-in-github",
        "colab_type": "text"
      },
      "source": [
        "<a href=\"https://colab.research.google.com/github/aryanpattni913-pixel/Classification_with_logistic_regression_and_random_forests-/blob/main/Python_Basics_Class_1_IDEAS_TIH_Autumn_Internship_2025.ipynb\" target=\"_parent\"><img src=\"https://colab.research.google.com/assets/colab-badge.svg\" alt=\"Open In Colab\"/></a>"
      ]
    },
    {
      "cell_type": "code",
      "execution_count": null,
      "metadata": {
        "colab": {
          "base_uri": "https://localhost:8080/"
        },
        "id": "LDQZfo11o4kO",
        "outputId": "4973f113-a02f-4c4f-f2cf-3b9391933722"
      },
      "outputs": [
        {
          "output_type": "stream",
          "name": "stdout",
          "text": [
            "Hello World!\n"
          ]
        }
      ],
      "source": [
        "print(\"Hello World!\")"
      ]
    },
    {
      "cell_type": "code",
      "source": [
        "# What if I don't want a line to be executed?? .. This is a single line comment!!\n",
        "a, b = 20, 30\n",
        "print(a,b)\n",
        "\n",
        "\n",
        "\"\"\"\n",
        "This is an example of a multi-line comment\n",
        "print(a,b)\n",
        "\"\"\"\n"
      ],
      "metadata": {
        "colab": {
          "base_uri": "https://localhost:8080/",
          "height": 52
        },
        "id": "sC8s8LVPpIoo",
        "outputId": "b7903865-2f00-4699-f45e-b9de7ed74571"
      },
      "execution_count": null,
      "outputs": [
        {
          "output_type": "stream",
          "name": "stdout",
          "text": [
            "20 30\n"
          ]
        },
        {
          "output_type": "execute_result",
          "data": {
            "text/plain": [
              "'\\nThis is an example of a multi-line comment \\nprint(a,b)\\n'"
            ],
            "application/vnd.google.colaboratory.intrinsic+json": {
              "type": "string"
            }
          },
          "metadata": {},
          "execution_count": 2
        }
      ]
    },
    {
      "cell_type": "code",
      "source": [
        "# VARIABLE : a named memory location\n",
        "\n",
        "#integer variables\n",
        "a = 123345\n",
        "print(a, type(a)) # type() function returns the datatype of the variable used\n",
        "\n",
        "#float variables\n",
        "pi = 3.14\n",
        "print(pi,type(pi))\n",
        "\n",
        "#strings\n",
        "name = \"Harry Potter\"\n",
        "print(name, type(name))\n",
        "\n",
        "#Boolean Variable\n",
        "is_this_class_interesting = True\n",
        "print(is_this_class_interesting, type(is_this_class_interesting))"
      ],
      "metadata": {
        "colab": {
          "base_uri": "https://localhost:8080/"
        },
        "id": "irWPgjH7pr3n",
        "outputId": "40987af4-1923-4e62-a4c0-febdbf720ec3"
      },
      "execution_count": null,
      "outputs": [
        {
          "output_type": "stream",
          "name": "stdout",
          "text": [
            "123345 <class 'int'>\n",
            "3.14 <class 'float'>\n",
            "Harry Potter <class 'str'>\n",
            "True <class 'bool'>\n"
          ]
        }
      ]
    },
    {
      "cell_type": "code",
      "source": [
        "#Type COnversion : Conversion of one datatype to another\n",
        "\n",
        "#implicit type conversion\n",
        "a = a - pi\n",
        "print(a, type(a))\n",
        "\n",
        "#explicit type conversion : (also known as coercion)\n",
        "pi = int(pi)\n",
        "print(pi, type(pi))\n",
        "\n",
        "truth = int(is_this_class_interesting)\n",
        "print(truth, is_this_class_interesting)\n",
        "\n"
      ],
      "metadata": {
        "colab": {
          "base_uri": "https://localhost:8080/"
        },
        "id": "fZMuMp8frZyn",
        "outputId": "63bed9e8-1e71-4984-f53c-c97e2b6d5a41"
      },
      "execution_count": null,
      "outputs": [
        {
          "output_type": "stream",
          "name": "stdout",
          "text": [
            "123341.86 <class 'float'>\n",
            "3 <class 'int'>\n",
            "1 True\n"
          ]
        }
      ]
    },
    {
      "cell_type": "code",
      "source": [
        "# addition, subtraction, multiplication, division:\n",
        "\n",
        "numerator = 10\n",
        "denominator = 0\n",
        "add = numerator + denominator\n",
        "sub = numerator - denominator\n",
        "mul = numerator * denominator\n",
        "# div = numerator / denominator\n",
        "\n",
        "print(f\"numerator + denominator = {add, type(add)}\")\n",
        "print(f\"numerator - denominator = {sub, type(sub)}\")\n",
        "print(f\"numerator x denominator = {mul, type(mul)}\")\n",
        "# print(f\"numerator / denominator = {div, type(div)}\")\n",
        "\n",
        "# try-except\n",
        "\n",
        "try:\n",
        "  print(f\"numerator / denominator = {numerator / denominator}\")\n",
        "except ZeroDivisionError:\n",
        "  print(\"Trying to reach the infinity stones? Contact Thanos!\")\n"
      ],
      "metadata": {
        "colab": {
          "base_uri": "https://localhost:8080/"
        },
        "id": "1PH3IHZntn64",
        "outputId": "8efcabd1-4573-4d0d-8912-bee3362adc3a"
      },
      "execution_count": null,
      "outputs": [
        {
          "output_type": "stream",
          "name": "stdout",
          "text": [
            "numerator + denominator = (10, <class 'int'>)\n",
            "numerator - denominator = (10, <class 'int'>)\n",
            "numerator x denominator = (0, <class 'int'>)\n",
            "Trying to reach the infinity stones? Contact Thanos!\n"
          ]
        }
      ]
    },
    {
      "cell_type": "code",
      "source": [
        "# STRING BASED OPERATIONS:\n",
        "\n",
        "last_name = \"Dommaraju\"\n",
        "first_name = \"Gukesh\"\n",
        "\n",
        "#contactenation : the additon of two or more strings into a single string\n",
        "name = first_name + \" \" + last_name\n",
        "print(f\"conacatenated string = {name}\")\n",
        "\n",
        "#length of a string\n",
        "print(f\"length of the string = {len(name)}\")\n",
        "\n",
        "\n",
        "'''\n",
        "                                           -3  -2   -1\n",
        "  G  u  k  e  s  h     D  o  m  m   a   r   a   j   u\n",
        "  0  1  2  3  4  5  6  7  8  9  10  11  12  13  14  15\n",
        "\n",
        "name[2] will print the character at index 2 which is 'k'\n",
        "\n",
        "'''\n",
        "\n",
        "print(name[2])\n",
        "\n",
        "#sub-strings : a sub sequence of a string :\n",
        "'''\n",
        "\n",
        "Syntax = string_name[lowerbound : upperbound]\n",
        "output : characters from lowerbound to upperbound-1\n",
        "\n",
        "'''\n",
        "print(\"substring example 1 \", name[2:4])\n",
        "print(\"substring example 2 \", name[:4])\n",
        "print(\"substring example 3 \", name[2:])\n",
        "print(\"substring example 4 \", name[-4]) # character at index of length(string) - 4\n",
        "print(\"substring example 5 \", name[::-1])\n",
        "\n",
        "upper_case = name.upper()\n",
        "print(upper_case)\n",
        "\n",
        "lower_case = name.lower()\n",
        "print(lower_case)\n",
        "\n",
        "title_case = lower_case.title()\n",
        "print(title_case)\n"
      ],
      "metadata": {
        "colab": {
          "base_uri": "https://localhost:8080/"
        },
        "id": "V8aZFPiAvqj6",
        "outputId": "42b85961-5939-413a-a778-81765997aa37"
      },
      "execution_count": null,
      "outputs": [
        {
          "output_type": "stream",
          "name": "stdout",
          "text": [
            "conacatenated string = Gukesh Dommaraju\n",
            "length of the string = 16\n",
            "k\n",
            "substring example 1  ke\n",
            "substring example 2  Guke\n",
            "substring example 3  kesh Dommaraju\n",
            "substring example 4  r\n",
            "substring example 5  ujarammoD hsekuG\n",
            "GUKESH DOMMARAJU\n",
            "gukesh dommaraju\n",
            "Gukesh Dommaraju\n"
          ]
        }
      ]
    },
    {
      "cell_type": "code",
      "source": [
        "# Conditional statements : IF- ELSE\n",
        "\n",
        "'''\n",
        "Syntax:\n",
        "\n",
        "if condtion1 :\n",
        "  statement\n",
        "elif condition2 :\n",
        "  statement\n",
        "else :\n",
        "  statement\n",
        "\n",
        "'''\n",
        "# LOGICAL OPERATIONS\n",
        "'''\n",
        "(p and q) : the result shall be true only if both the conditions p and q are true\n",
        "\n",
        "(p or q) : the result shall be true only if either the conditions p and q, or both the conditions are true\n",
        "\n",
        "\n",
        "p  q   (p and q)  (p or q)\n",
        "T  T     T         T\n",
        "T  F     F         T\n",
        "F  T     F         T\n",
        "F  F     F         F\n",
        "\n",
        "'''\n",
        "\n",
        "\n",
        "physics = 80\n",
        "maths = 80\n",
        "\n",
        "if (physics >= 85 and maths >= 85):\n",
        "  print(\"Pen + Diary\")\n",
        "elif (physics >= 85 and maths <= 85):\n",
        "  print(\"Diary\")\n",
        "elif (physics <= 85 or maths >= 85):\n",
        "  print(\"Pen\")\n",
        "else:\n",
        "  print(\"GET OF THE HOUSE!\")\n",
        "\n"
      ],
      "metadata": {
        "colab": {
          "base_uri": "https://localhost:8080/"
        },
        "id": "lLs8UxQIy6fv",
        "outputId": "118db16d-0959-4399-afa5-7011743a25c5"
      },
      "execution_count": null,
      "outputs": [
        {
          "output_type": "stream",
          "name": "stdout",
          "text": [
            "Pen\n"
          ]
        }
      ]
    },
    {
      "cell_type": "code",
      "source": [
        "# Some more datatypes : LIST\n",
        "\n",
        "# myList = [\"HArry\", 91, pi]\n",
        "# print(f\"myList = {myList, type(myList)}\")\n",
        "\n",
        "'''\n",
        "Indexing in Lists is of the same type as in Strings\n",
        "'''\n",
        "\n",
        "myList = [\"Harry\", \"Hermione\", \"Ron\", \"Draco\", \"Snape\"]\n",
        "\n",
        "#list slicing\n",
        "print(myList[1:3])\n",
        "print(myList[1:])\n",
        "print(myList[:3])\n",
        "print(myList[::-1])\n",
        "\n",
        "for i in myList:\n",
        "  if (i == 'Draco'):\n",
        "    print(\"my Father will hear about this!\")\n",
        "  elif (i == 'Snape'):\n",
        "    print(\"50 points from Gryffindor!\")\n",
        "  else:\n",
        "    print(\"Gryffindor Rules!\")\n",
        "\n",
        "\n",
        "\n",
        "\n",
        "#More operations on string:\n",
        "\n",
        "#stripping whitespaces\n",
        "text_with_whitespaces = \"        Prof. Albus Dumbledore \"\n",
        "print(len(text_with_whitespaces))\n",
        "print(len(text_with_whitespaces.strip())) # strip() removes whitespaces from both ends of a string\n",
        "\n",
        "text_with_chars = \"##Prof. Albus#Dumbledore \"\n",
        "print(text_with_chars.strip('#')) # strip\n",
        "\n",
        "\n",
        "#Replacing substrings:\n",
        "original_text = \"Potter you might be in some sirius trouble !\"\n",
        "print(\"Original text\", original_text)\n",
        "new_text = original_text.replace(\"sirius\", \"serious\")\n",
        "print(\"New text\", new_text)\n",
        "\n",
        "#Find substring\n",
        "position = original_text.find(\"sirius\")\n",
        "print(position)\n",
        "\n",
        "#count substrings\n",
        "count = original_text.count(\"Potter\")\n",
        "print(f\"no. of occurrences of {\"Potter\"} in {original_text} is {count}\")\n",
        "\n"
      ],
      "metadata": {
        "colab": {
          "base_uri": "https://localhost:8080/"
        },
        "id": "vkxsDJYC3IJv",
        "outputId": "39fa4f40-0140-4b4f-adf7-a5173d659e39"
      },
      "execution_count": null,
      "outputs": [
        {
          "output_type": "stream",
          "name": "stdout",
          "text": [
            "['Hermione', 'Ron']\n",
            "['Hermione', 'Ron', 'Draco', 'Snape']\n",
            "['Harry', 'Hermione', 'Ron']\n",
            "['Snape', 'Draco', 'Ron', 'Hermione', 'Harry']\n",
            "Gryffindor Rules!\n",
            "Gryffindor Rules!\n",
            "Gryffindor Rules!\n",
            "my Father will hear about this!\n",
            "50 points from Gryffindor!\n",
            "31\n",
            "22\n",
            "Prof. Albus#Dumbledore \n",
            "Original text Potter you might be in some sirius trouble !\n",
            "New text Potter you might be in some serious trouble !\n",
            "28\n",
            "no. of occurrences of Potter in Potter you might be in some sirius trouble ! is 1\n"
          ]
        }
      ]
    },
    {
      "cell_type": "code",
      "source": [
        "# Loops\n",
        "\n",
        "for i in range(0,5,2):\n",
        "  print(i)\n",
        "\n",
        "\n",
        "#dry run of for loop:\n",
        "'''\n",
        "\n",
        "1st iteration:\n",
        "i=0\n",
        "print(0)\n",
        "by default the value of i is incremented by 1, i.e. i = i+1 = 0+1 = 1. Thus the updated value of i after the first iteration is 1.\n",
        "\n",
        "2nd iteration:\n",
        "i=1\n",
        "print(1)\n",
        "i = i+1 = 1+1 = 2. Thus the updated value of i after the second iteration is 2.\n",
        "\n",
        "3rd iteration:\n",
        "i=2\n",
        "print(2)\n",
        "i = i+1 = 2+1 = 3. Thus the updated value of i after the third iteration is 3.\n",
        "\n",
        "4th iteration:\n",
        "i=3\n",
        "print(3)\n",
        "i = i+1 = 3+1 = 4. Thus the updated value of i after the fourth iteration is 4.\n",
        "\n",
        "5th iteration:\n",
        "i=4\n",
        "print(4)\n",
        "i = i+1 = 4+1 = 5. Thus the updated value of i after the fifth iteration is 5.\n",
        "\n",
        "6th iteration\n",
        "i = 5 . Fails the loop condition , so the loop gets terminated.\n",
        "\n",
        "range(start, stop, step)\n",
        "\n",
        "'''\n",
        "\n",
        "print(f\"what is the output of range(i) = {range(7)}\")\n",
        "print(range(7))\n",
        "\n"
      ],
      "metadata": {
        "colab": {
          "base_uri": "https://localhost:8080/"
        },
        "id": "MTIKYszp5yQH",
        "outputId": "660c430b-0fd1-4952-c499-b25aa0ffeec6"
      },
      "execution_count": null,
      "outputs": [
        {
          "output_type": "stream",
          "name": "stdout",
          "text": [
            "0\n",
            "2\n",
            "4\n",
            "what is the output of range(i) = range(0, 7)\n",
            "range(0, 7)\n"
          ]
        }
      ]
    },
    {
      "cell_type": "code",
      "source": [
        "'''\n",
        "Program 1: Write a python program to calculate the area of a rectangle\n",
        "\n",
        "Program 2: Write a python program to check if a number is odd or even\n",
        "\n",
        "Program 3: Write a python program to find the largest among three numbers\n",
        "\n",
        "Program 4: Write a python program to check if a number is a prime number\n",
        "\n",
        "Program 5: Write a python program to print the factorial of a number\n",
        "\n",
        "'''\n"
      ],
      "metadata": {
        "colab": {
          "base_uri": "https://localhost:8080/",
          "height": 70
        },
        "id": "AwAQYgg07VyQ",
        "outputId": "a20f956f-5f54-4c36-8138-baffbf223597"
      },
      "execution_count": null,
      "outputs": [
        {
          "output_type": "execute_result",
          "data": {
            "text/plain": [
              "'\\nProgram 1: Write a python program to calculate the area of a rectangle\\n\\nProgram 2: Write a python program to check if a number is odd or even\\n\\nProgram 3: Write a python program to find the largest among three numbers\\n\\nProgram 4: Write a python program to check if a number is a prime number\\n\\nProgram 5: Write a python program to print the factorial of a number\\n\\n'"
            ],
            "application/vnd.google.colaboratory.intrinsic+json": {
              "type": "string"
            }
          },
          "metadata": {},
          "execution_count": 58
        }
      ]
    },
    {
      "cell_type": "code",
      "source": [],
      "metadata": {
        "id": "xvXYamJlCS9S"
      },
      "execution_count": null,
      "outputs": []
    }
  ]
}